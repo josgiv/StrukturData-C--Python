{
  "nbformat": 4,
  "nbformat_minor": 0,
  "metadata": {
    "colab": {
      "provenance": []
    },
    "kernelspec": {
      "name": "python3",
      "display_name": "Python 3"
    },
    "language_info": {
      "name": "python"
    }
  },
  "cells": [
    {
      "cell_type": "markdown",
      "source": [
        "**HALAMAN 14 - 15 PPT PYTHON**"
      ],
      "metadata": {
        "id": "EatXXmk4KFVD"
      }
    },
    {
      "cell_type": "code",
      "execution_count": null,
      "metadata": {
        "colab": {
          "base_uri": "https://localhost:8080/"
        },
        "id": "3CuVJVbxJ_Ux",
        "outputId": "cdb86d5b-564d-43d3-b710-eaf8be016a1a"
      },
      "outputs": [
        {
          "output_type": "stream",
          "name": "stdout",
          "text": [
            "10 30 50 \n",
            "3\n"
          ]
        }
      ],
      "source": [
        "class singleLL:\n",
        "    # Pembuatan kelas Node\n",
        "    class _Node:\n",
        "        def __init__(self, element, nextNode=None):\n",
        "            self.element = element\n",
        "            self.nextNode = nextNode\n",
        "\n",
        "    # Pembuatan Single Linked List\n",
        "    def __init__(self):\n",
        "        self._head = None\n",
        "        self._size = 0\n",
        "\n",
        "    # Pembuatan Fungsi View All\n",
        "    def __str__(self):\n",
        "        result = ''\n",
        "        pointer = self._head\n",
        "        while pointer != None:\n",
        "            result = result + str(pointer.element) + ' '\n",
        "            pointer = pointer.nextNode\n",
        "        return result\n",
        "\n",
        "    # Add First pada List yang masih kosong\n",
        "    def add_first(self, element):\n",
        "        newNode = self._Node(element)\n",
        "        newNode.nextNode = self._head\n",
        "        self._head = newNode\n",
        "        self._size += 1\n",
        "\n",
        "    def __len__(self):\n",
        "        return self._size\n",
        "\n",
        "def main():\n",
        "    mylist = singleLL()\n",
        "    mylist.add_first(50)\n",
        "    mylist.add_first(30)\n",
        "    mylist.add_first(10)\n",
        "    print(str(mylist))\n",
        "    print(len(mylist))\n",
        "\n",
        "main()\n"
      ]
    },
    {
      "cell_type": "markdown",
      "source": [
        "**HALAMAN 25 PPT PYTHON**"
      ],
      "metadata": {
        "id": "5G41TWo-KD7L"
      }
    },
    {
      "cell_type": "code",
      "source": [
        "class singleLL:\n",
        "    # Pembuatan kelas Node\n",
        "    class Node:\n",
        "        def __init__(self, element, nextNode=None):\n",
        "            self.element = element\n",
        "            self.nextNode = nextNode\n",
        "\n",
        "    # Pembuatan Single Linked List\n",
        "    def __init__(self):\n",
        "        self.head = None\n",
        "        self._size = 0\n",
        "\n",
        "    # Pembuatan Fungsi View All\n",
        "    def __str__(self):\n",
        "        result = ''\n",
        "        pointer = self.head\n",
        "        while pointer != None:\n",
        "            result = result + str(pointer.element) + ' '\n",
        "            pointer = pointer.nextNode\n",
        "        return result\n",
        "\n",
        "    def __len__(self):\n",
        "        return self._size\n",
        "\n",
        "    def add_first(self, element):\n",
        "        newNode = self.Node(element)\n",
        "        newNode.nextNode = self.head\n",
        "        self.head = newNode\n",
        "        self._size += 1\n",
        "\n",
        "    def add_middle(self, index, element):\n",
        "        if index < 0 or index > self._size:\n",
        "            raise IndexError(\"Index out of range\")\n",
        "        if index == 0:\n",
        "            self.add_first(element)\n",
        "        else:\n",
        "            newNode = self.Node(element)\n",
        "            current_node = self.head\n",
        "            for _ in range(index - 1):\n",
        "                current_node = current_node.nextNode\n",
        "            newNode.nextNode = current_node.nextNode\n",
        "            current_node.nextNode = newNode\n",
        "            self._size += 1\n",
        "\n",
        "def main():\n",
        "    mylist = singleLL()\n",
        "    mylist.add_first(50)\n",
        "    mylist.add_first(30)\n",
        "    mylist.add_first(10)\n",
        "\n",
        "    print(\"Original Linked List:\")\n",
        "    print(str(mylist))\n",
        "    print(len(mylist))\n",
        "\n",
        "    # Menambahkan node di tengah (indeks 1)\n",
        "    mylist.add_middle(1, 20)\n",
        "\n",
        "    print(\"\\nLinked List setelah menambahkan node di tengah:\")\n",
        "    print(str(mylist))\n",
        "    print(len(mylist))\n",
        "\n",
        "main()\n"
      ],
      "metadata": {
        "colab": {
          "base_uri": "https://localhost:8080/"
        },
        "id": "vnfddeRXKDe8",
        "outputId": "ef2085ef-ef97-4781-c5ac-2694edac1849"
      },
      "execution_count": null,
      "outputs": [
        {
          "output_type": "stream",
          "name": "stdout",
          "text": [
            "Original Linked List:\n",
            "10 30 50 \n",
            "3\n",
            "\n",
            "Linked List setelah menambahkan node di tengah:\n",
            "10 20 30 50 \n",
            "4\n"
          ]
        }
      ]
    },
    {
      "cell_type": "markdown",
      "source": [
        "**HALAMAN 40 PPT PYTHON**"
      ],
      "metadata": {
        "id": "2vusE36yKNFM"
      }
    },
    {
      "cell_type": "code",
      "source": [
        "class singleLL:\n",
        "    # Pembuatan kelas Node\n",
        "    class Node:\n",
        "        def __init__(self, element, nextNode=None):\n",
        "            self.element = element\n",
        "            self.nextNode = nextNode\n",
        "\n",
        "    # Pembuatan Single Linked List\n",
        "    def __init__(self):\n",
        "        self.head = None\n",
        "        self._size = 0\n",
        "\n",
        "    # Pembuatan Fungsi View All\n",
        "    def __str__(self):\n",
        "        result = ''\n",
        "        pointer = self.head\n",
        "        while pointer is not None:\n",
        "            result += str(pointer.element) + ' '\n",
        "            pointer = pointer.nextNode\n",
        "        return result\n",
        "\n",
        "    # Add First pada List yang masih kosong\n",
        "    def add_first(self, element):\n",
        "        newNode = self.Node(element)\n",
        "        newNode.nextNode = self.head\n",
        "        self.head = newNode\n",
        "        self._size += 1\n",
        "\n",
        "    # Menghapus Node di Akhir Linked List\n",
        "    def delete_last(self):\n",
        "        if self.head is None:\n",
        "            raise IndexError(\"Linked list is empty\")\n",
        "        elif self._size == 1:\n",
        "            self.head = None\n",
        "        else:\n",
        "            current_node = self.head\n",
        "            while current_node.nextNode.nextNode is not None:\n",
        "                current_node = current_node.nextNode\n",
        "            current_node.nextNode = None\n",
        "            self._size -= 1\n",
        "\n",
        "    def __len__(self):\n",
        "        return self._size\n",
        "\n",
        "def main():\n",
        "    mylist = singleLL()\n",
        "    mylist.add_first(50)\n",
        "    mylist.add_first(30)\n",
        "    mylist.add_first(10)\n",
        "\n",
        "    print(\"Original Linked List:\")\n",
        "    print(str(mylist))\n",
        "    print(len(mylist))\n",
        "\n",
        "    # Menghapus node di akhir\n",
        "    mylist.delete_last()\n",
        "\n",
        "    print(\"\\nLinked List setelah menghapus node di akhir:\")\n",
        "    print(str(mylist))\n",
        "    print(len(mylist))\n",
        "\n",
        "main()\n"
      ],
      "metadata": {
        "colab": {
          "base_uri": "https://localhost:8080/"
        },
        "id": "C7SzApXDKMeF",
        "outputId": "f814b9c8-f54e-4028-e079-83b5ff777e8a"
      },
      "execution_count": null,
      "outputs": [
        {
          "output_type": "stream",
          "name": "stdout",
          "text": [
            "Original Linked List:\n",
            "10 30 50 \n",
            "3\n",
            "\n",
            "Linked List setelah menghapus node di akhir:\n",
            "10 30 \n",
            "2\n"
          ]
        }
      ]
    },
    {
      "cell_type": "markdown",
      "source": [
        "**HALAMAN 50**"
      ],
      "metadata": {
        "id": "_SLf0y6sKbHN"
      }
    },
    {
      "cell_type": "code",
      "source": [
        "class Simpul:\n",
        "    def __init__(self, dat):\n",
        "        self.dat = dat\n",
        "        self.next = None\n",
        "\n",
        "class LinkedList:\n",
        "    def __init__(self, head=None):\n",
        "        self.head = head\n",
        "\n",
        "    def append(self, simpulBaru):\n",
        "        ptr = self.head\n",
        "        if ptr:\n",
        "            while ptr.next:\n",
        "                ptr = ptr.next\n",
        "            ptr.next = simpulBaru\n",
        "        else:\n",
        "            self.head = simpulBaru\n",
        "\n",
        "    def sisip(self, setelah, simpulBaru):\n",
        "        ptr = self.head\n",
        "        while ptr and (ptr.dat != setelah):\n",
        "            ptr = ptr.next\n",
        "        if ptr and (ptr.dat == setelah):\n",
        "            simpulBaru.next = ptr.next\n",
        "            ptr.next = simpulBaru\n",
        "\n",
        "    def hapus(self, dihapus):\n",
        "        ptr = self.head\n",
        "        prev = None\n",
        "        while ptr and (ptr.dat != dihapus):\n",
        "            prev = ptr\n",
        "            ptr = ptr.next\n",
        "        if ptr and (ptr.dat == dihapus):\n",
        "            if prev is None:\n",
        "                self.head = ptr.next\n",
        "            else:\n",
        "                prev.next = ptr.next\n",
        "            del ptr\n",
        "\n",
        "    def cetak(self):\n",
        "        print(\"HEAD: \", self.head)\n",
        "        ptr = self.head\n",
        "        while ptr:\n",
        "            print(\"node: \", ptr, \"[\", ptr.dat, \"|\", ptr.next, \"]\")\n",
        "            ptr = ptr.next\n",
        "\n",
        "a = [34, 77, 91, 23, 10, 32, 90, 60, 50, 11]\n",
        "print(\"mulai\")\n",
        "l1 = LinkedList()  # membuat linked-list 1\n",
        "l2 = LinkedList()  # membuat linked-list 2\n",
        "l3 = LinkedList()  # membuat linked-list 3\n",
        "for i in range(0, 10):\n",
        "    temp = Simpul(a[i])\n",
        "    l1.append(temp)\n",
        "l1.sisip(10, Simpul(48))\n",
        "l1.cetak()\n",
        "print(\"ok\")\n",
        "print()\n",
        "\n",
        "xptr = l1.head\n",
        "print(xptr)\n",
        "while xptr:\n",
        "    temp = Simpul(xptr.dat)\n",
        "    if xptr.dat % 2 == 0:\n",
        "        l2.append(temp)\n",
        "    else:\n",
        "        l3.append(temp)\n",
        "    xptr = xptr.next\n",
        "print(\"\\ndata genap\")\n",
        "l2.cetak()\n",
        "print(\"\\ndata ganjil\")\n",
        "l3.cetak()\n",
        "l1.hapus(10)\n",
        "print(\"\\nsetelah hapus 10\")\n",
        "l1.cetak()\n",
        "\n",
        "l1.hapus(34)\n",
        "print(\"\\nsetelah hapus head\")\n",
        "print(l1.head)\n",
        "l1.cetak()\n",
        "\n",
        "l1.hapus(11)\n",
        "print(\"\\nsetelah hapus tail\")\n",
        "l1.cetak()\n"
      ],
      "metadata": {
        "colab": {
          "base_uri": "https://localhost:8080/"
        },
        "id": "aVoUOBxQKWMF",
        "outputId": "de9ee734-5ea1-4cca-a9e3-59f2968002f3"
      },
      "execution_count": null,
      "outputs": [
        {
          "output_type": "stream",
          "name": "stdout",
          "text": [
            "mulai\n",
            "HEAD:  <__main__.Simpul object at 0x7a56cbf6a320>\n",
            "node:  <__main__.Simpul object at 0x7a56cbf6a320> [ 34 | <__main__.Simpul object at 0x7a56cbf68be0> ]\n",
            "node:  <__main__.Simpul object at 0x7a56cbf68be0> [ 77 | <__main__.Simpul object at 0x7a56cbf68c10> ]\n",
            "node:  <__main__.Simpul object at 0x7a56cbf68c10> [ 91 | <__main__.Simpul object at 0x7a56cbf6bf10> ]\n",
            "node:  <__main__.Simpul object at 0x7a56cbf6bf10> [ 23 | <__main__.Simpul object at 0x7a56cbf6bfa0> ]\n",
            "node:  <__main__.Simpul object at 0x7a56cbf6bfa0> [ 10 | <__main__.Simpul object at 0x7a56cbf68d30> ]\n",
            "node:  <__main__.Simpul object at 0x7a56cbf68d30> [ 48 | <__main__.Simpul object at 0x7a56cbf69690> ]\n",
            "node:  <__main__.Simpul object at 0x7a56cbf69690> [ 32 | <__main__.Simpul object at 0x7a56cbf69330> ]\n",
            "node:  <__main__.Simpul object at 0x7a56cbf69330> [ 90 | <__main__.Simpul object at 0x7a56cbf694e0> ]\n",
            "node:  <__main__.Simpul object at 0x7a56cbf694e0> [ 60 | <__main__.Simpul object at 0x7a56cbf697e0> ]\n",
            "node:  <__main__.Simpul object at 0x7a56cbf697e0> [ 50 | <__main__.Simpul object at 0x7a56cbf6b790> ]\n",
            "node:  <__main__.Simpul object at 0x7a56cbf6b790> [ 11 | None ]\n",
            "ok\n",
            "\n",
            "<__main__.Simpul object at 0x7a56cbf6a320>\n",
            "\n",
            "data genap\n",
            "HEAD:  <__main__.Simpul object at 0x7a56cbf6c5b0>\n",
            "node:  <__main__.Simpul object at 0x7a56cbf6c5b0> [ 34 | <__main__.Simpul object at 0x7a56cbf6ccd0> ]\n",
            "node:  <__main__.Simpul object at 0x7a56cbf6ccd0> [ 10 | <__main__.Simpul object at 0x7a56cbf6d3f0> ]\n",
            "node:  <__main__.Simpul object at 0x7a56cbf6d3f0> [ 48 | <__main__.Simpul object at 0x7a56cbf6c730> ]\n",
            "node:  <__main__.Simpul object at 0x7a56cbf6c730> [ 32 | <__main__.Simpul object at 0x7a56cbf6efb0> ]\n",
            "node:  <__main__.Simpul object at 0x7a56cbf6efb0> [ 90 | <__main__.Simpul object at 0x7a56cbf6dea0> ]\n",
            "node:  <__main__.Simpul object at 0x7a56cbf6dea0> [ 60 | <__main__.Simpul object at 0x7a56cbf6e9e0> ]\n",
            "node:  <__main__.Simpul object at 0x7a56cbf6e9e0> [ 50 | None ]\n",
            "\n",
            "data ganjil\n",
            "HEAD:  <__main__.Simpul object at 0x7a56cbf6c100>\n",
            "node:  <__main__.Simpul object at 0x7a56cbf6c100> [ 77 | <__main__.Simpul object at 0x7a56cbf6dcc0> ]\n",
            "node:  <__main__.Simpul object at 0x7a56cbf6dcc0> [ 91 | <__main__.Simpul object at 0x7a56cbf6eec0> ]\n",
            "node:  <__main__.Simpul object at 0x7a56cbf6eec0> [ 23 | <__main__.Simpul object at 0x7a56cbf6cc40> ]\n",
            "node:  <__main__.Simpul object at 0x7a56cbf6cc40> [ 11 | None ]\n",
            "\n",
            "setelah hapus 10\n",
            "HEAD:  <__main__.Simpul object at 0x7a56cbf6a320>\n",
            "node:  <__main__.Simpul object at 0x7a56cbf6a320> [ 34 | <__main__.Simpul object at 0x7a56cbf68be0> ]\n",
            "node:  <__main__.Simpul object at 0x7a56cbf68be0> [ 77 | <__main__.Simpul object at 0x7a56cbf68c10> ]\n",
            "node:  <__main__.Simpul object at 0x7a56cbf68c10> [ 91 | <__main__.Simpul object at 0x7a56cbf6bf10> ]\n",
            "node:  <__main__.Simpul object at 0x7a56cbf6bf10> [ 23 | <__main__.Simpul object at 0x7a56cbf68d30> ]\n",
            "node:  <__main__.Simpul object at 0x7a56cbf68d30> [ 48 | <__main__.Simpul object at 0x7a56cbf69690> ]\n",
            "node:  <__main__.Simpul object at 0x7a56cbf69690> [ 32 | <__main__.Simpul object at 0x7a56cbf69330> ]\n",
            "node:  <__main__.Simpul object at 0x7a56cbf69330> [ 90 | <__main__.Simpul object at 0x7a56cbf694e0> ]\n",
            "node:  <__main__.Simpul object at 0x7a56cbf694e0> [ 60 | <__main__.Simpul object at 0x7a56cbf697e0> ]\n",
            "node:  <__main__.Simpul object at 0x7a56cbf697e0> [ 50 | <__main__.Simpul object at 0x7a56cbf6b790> ]\n",
            "node:  <__main__.Simpul object at 0x7a56cbf6b790> [ 11 | None ]\n",
            "\n",
            "setelah hapus head\n",
            "<__main__.Simpul object at 0x7a56cbf68be0>\n",
            "HEAD:  <__main__.Simpul object at 0x7a56cbf68be0>\n",
            "node:  <__main__.Simpul object at 0x7a56cbf68be0> [ 77 | <__main__.Simpul object at 0x7a56cbf68c10> ]\n",
            "node:  <__main__.Simpul object at 0x7a56cbf68c10> [ 91 | <__main__.Simpul object at 0x7a56cbf6bf10> ]\n",
            "node:  <__main__.Simpul object at 0x7a56cbf6bf10> [ 23 | <__main__.Simpul object at 0x7a56cbf68d30> ]\n",
            "node:  <__main__.Simpul object at 0x7a56cbf68d30> [ 48 | <__main__.Simpul object at 0x7a56cbf69690> ]\n",
            "node:  <__main__.Simpul object at 0x7a56cbf69690> [ 32 | <__main__.Simpul object at 0x7a56cbf69330> ]\n",
            "node:  <__main__.Simpul object at 0x7a56cbf69330> [ 90 | <__main__.Simpul object at 0x7a56cbf694e0> ]\n",
            "node:  <__main__.Simpul object at 0x7a56cbf694e0> [ 60 | <__main__.Simpul object at 0x7a56cbf697e0> ]\n",
            "node:  <__main__.Simpul object at 0x7a56cbf697e0> [ 50 | <__main__.Simpul object at 0x7a56cbf6b790> ]\n",
            "node:  <__main__.Simpul object at 0x7a56cbf6b790> [ 11 | None ]\n",
            "\n",
            "setelah hapus tail\n",
            "HEAD:  <__main__.Simpul object at 0x7a56cbf68be0>\n",
            "node:  <__main__.Simpul object at 0x7a56cbf68be0> [ 77 | <__main__.Simpul object at 0x7a56cbf68c10> ]\n",
            "node:  <__main__.Simpul object at 0x7a56cbf68c10> [ 91 | <__main__.Simpul object at 0x7a56cbf6bf10> ]\n",
            "node:  <__main__.Simpul object at 0x7a56cbf6bf10> [ 23 | <__main__.Simpul object at 0x7a56cbf68d30> ]\n",
            "node:  <__main__.Simpul object at 0x7a56cbf68d30> [ 48 | <__main__.Simpul object at 0x7a56cbf69690> ]\n",
            "node:  <__main__.Simpul object at 0x7a56cbf69690> [ 32 | <__main__.Simpul object at 0x7a56cbf69330> ]\n",
            "node:  <__main__.Simpul object at 0x7a56cbf69330> [ 90 | <__main__.Simpul object at 0x7a56cbf694e0> ]\n",
            "node:  <__main__.Simpul object at 0x7a56cbf694e0> [ 60 | <__main__.Simpul object at 0x7a56cbf697e0> ]\n",
            "node:  <__main__.Simpul object at 0x7a56cbf697e0> [ 50 | None ]\n"
          ]
        }
      ]
    },
    {
      "cell_type": "code",
      "source": [],
      "metadata": {
        "id": "hyU4BIIXKdM-"
      },
      "execution_count": null,
      "outputs": []
    }
  ]
}